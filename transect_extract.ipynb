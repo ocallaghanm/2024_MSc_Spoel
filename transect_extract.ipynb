{
  "nbformat": 4,
  "nbformat_minor": 0,
  "metadata": {
    "colab": {
      "provenance": [],
      "authorship_tag": "ABX9TyMDd1Zrx7HkGATwf9xf/iBK",
      "include_colab_link": true
    },
    "kernelspec": {
      "name": "ir",
      "display_name": "R"
    },
    "language_info": {
      "name": "R"
    }
  },
  "cells": [
    {
      "cell_type": "markdown",
      "metadata": {
        "id": "view-in-github",
        "colab_type": "text"
      },
      "source": [
        "<a href=\"https://colab.research.google.com/github/ocallaghanm/2024_MSc_Spoel/blob/main/transect_extract.ipynb\" target=\"_parent\"><img src=\"https://colab.research.google.com/assets/colab-badge.svg\" alt=\"Open In Colab\"/></a>"
      ]
    },
    {
      "cell_type": "code",
      "execution_count": null,
      "metadata": {
        "id": "66N3zMtKbqJ3"
      },
      "outputs": [],
      "source": [
        " # Workflow ---------------------------------------------------------------------\n",
        "\n",
        " # 1. Verify all shp had same extent (in QGIS). True, no masking required;\n",
        "\n",
        " # 2. Make masks for up- and downstream of confluence, clip shp accordingly (in R);\n",
        "\n",
        " # 3. Verify all up- and downstream shp still had same extent (in R). True;\n",
        "\n",
        " # 4. Draw line along Spöl channel (QGIS);\n",
        "\n",
        " # 5. Make points every 100 m along line. Points to path (QGIS);\n",
        "\n",
        " # 6. Make 300 m long transects at 90° from line at each vertex (QGIS). May not be perpendicular to stream at all times;\n",
        "\n",
        " # 7. Rasterise classification shapefiles (QGIS): burn in classes, 25 cm resolution, all same extent as 1946 raster;\n",
        "\n",
        " # 8. Extract classes along transects (SAGA GIS);\n",
        "\n",
        " # 9. Import and visualise in R."
      ]
    },
    {
      "cell_type": "code",
      "source": [
        "# Libs -------------------------------------------------------------------------\n",
        "\n",
        "library(tidyverse)\n",
        "\n",
        "library(sf)\n",
        "\n",
        "library(vroom)\n",
        "\n",
        "library(rstatix)\n",
        "\n",
        "library(raster)\n",
        "\n",
        "library(rgdal)\n",
        "\n",
        "library(ggpattern)\n",
        "\n",
        "library(terra)"
      ],
      "metadata": {
        "id": "k6xriH8RcXW-"
      },
      "execution_count": null,
      "outputs": []
    },
    {
      "cell_type": "code",
      "source": [],
      "metadata": {
        "id": "mo71cYpFdd09"
      },
      "execution_count": null,
      "outputs": []
    },
    {
      "cell_type": "code",
      "source": [],
      "metadata": {
        "id": "hQcjvbBKpqFe"
      },
      "execution_count": null,
      "outputs": []
    },
    {
      "cell_type": "code",
      "source": [],
      "metadata": {
        "id": "nDoJJjPIdicF"
      },
      "execution_count": null,
      "outputs": []
    }
  ]
}